{
 "cells": [
  {
   "cell_type": "code",
   "execution_count": 25,
   "id": "2341d4da-7c0a-433f-a95a-6b660ee6b2e5",
   "metadata": {},
   "outputs": [
    {
     "name": "stdout",
     "output_type": "stream",
     "text": [
      "Enter the length: 4\n",
      "Enter the width: 2\n"
     ]
    },
    {
     "name": "stdout",
     "output_type": "stream",
     "text": [
      "The area is:8.0\n"
     ]
    }
   ],
   "source": [
    "   \n",
    "length=float(input(\"Enter the length:\"))\n",
    "width=float(input(\"Enter the width:\"))\n",
    "def area(length,width):\n",
    "    area_rec = length*width\n",
    "    return area_rec\n",
    "print(f\"The area is:{area(length,width)}\")\n"
   ]
  },
  {
   "cell_type": "code",
   "execution_count": 32,
   "id": "e428059d-3b11-41e9-8e0a-4f5f97e7236f",
   "metadata": {},
   "outputs": [
    {
     "name": "stdout",
     "output_type": "stream",
     "text": [
      "Enter a non-negative integer:  5\n"
     ]
    },
    {
     "name": "stdout",
     "output_type": "stream",
     "text": [
      "The factorial of 5 is: 120\n"
     ]
    }
   ],
   "source": [
    "number = int(input(\"Enter a non-negative integer: \"))\n",
    "if number < 0:\n",
    "    print(\"Non-negative integer is not allowed.\")\n",
    "else:\n",
    "    factorial = 1\n",
    "    for i in range(1, number + 1):\n",
    "        factorial *= i    \n",
    "    print(f\"The factorial of {number} is: {factorial}\")\n",
    "    "
   ]
  },
  {
   "cell_type": "code",
   "execution_count": null,
   "id": "c8d142fc-9c62-4b23-bd00-2440f11eb42e",
   "metadata": {},
   "outputs": [],
   "source": []
  }
 ],
 "metadata": {
  "kernelspec": {
   "display_name": "Python [conda env:MSE800_UMALI]",
   "language": "python",
   "name": "conda-env-MSE800_UMALI-py"
  },
  "language_info": {
   "codemirror_mode": {
    "name": "ipython",
    "version": 3
   },
   "file_extension": ".py",
   "mimetype": "text/x-python",
   "name": "python",
   "nbconvert_exporter": "python",
   "pygments_lexer": "ipython3",
   "version": "3.13.2"
  }
 },
 "nbformat": 4,
 "nbformat_minor": 5
}
